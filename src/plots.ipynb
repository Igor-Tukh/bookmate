{
 "cells": [
  {
   "cell_type": "code",
   "execution_count": 22,
   "metadata": {},
   "outputs": [
    {
     "data": {
      "text/html": [
       "<script>requirejs.config({paths: { 'plotly': ['https://cdn.plot.ly/plotly-latest.min']},});if(!window.Plotly) {{require(['plotly'],function(plotly) {window.Plotly=plotly;});}}</script>"
      ],
      "text/vnd.plotly.v1+html": [
       "<script>requirejs.config({paths: { 'plotly': ['https://cdn.plot.ly/plotly-latest.min']},});if(!window.Plotly) {{require(['plotly'],function(plotly) {window.Plotly=plotly;});}}</script>"
      ]
     },
     "metadata": {},
     "output_type": "display_data"
    }
   ],
   "source": [
    "from pymongo import MongoClient\n",
    "import matplotlib.pyplot as plt\n",
    "from plotly.offline import download_plotlyjs, init_notebook_mode, plot, iplot\n",
    "import plotly.graph_objs as go\n",
    "import numpy as np\n",
    "init_notebook_mode(connected=True)\n",
    "BOOKS_DB = 'bookmate'"
   ]
  },
  {
   "cell_type": "code",
   "execution_count": 17,
   "metadata": {
    "collapsed": true
   },
   "outputs": [],
   "source": [
    "def connect_to_mongo_database(db):\n",
    "    client = MongoClient('localhost', 27017)\n",
    "    db = client[db]\n",
    "    return db"
   ]
  },
  {
   "cell_type": "code",
   "execution_count": 18,
   "metadata": {
    "collapsed": true
   },
   "outputs": [],
   "source": [
    "def plot_data(dbs, book_id, field):\n",
    "    plot_data = []\n",
    "    for db in dbs:\n",
    "        database = connect_to_mongo_database(db)\n",
    "        data = database['%s_pages' % book_id].find().distinct(field)\n",
    "        data = np.convolve(data, np.ones(10)/10)\n",
    "        trace = go.Scatter(\n",
    "            x = list(range(0, len(data))),\n",
    "            y = data,\n",
    "            mode = 'lines',\n",
    "            name = db.title()\n",
    "        )\n",
    "        plot_data.append(trace)\n",
    "\n",
    "#     iplot(plot_data, filename='%s_%s.png' % (book_id, field))"
   ]
  },
  {
   "cell_type": "code",
   "execution_count": null,
   "metadata": {},
   "outputs": [],
   "source": [
    "book_ids = ['2206', '2207', '2543', '2289', '135089']\n",
    "fields = ['page_speed', 'page_skip_percent', 'page_unusual_percent']\n",
    "# fields = ['page_speed']\n",
    "# book_ids = ['2206']\n",
    "dbs = ['bookmate', 'bookmate_male', 'bookmate_female', 'bookmate_paid', 'bookmate_free']\n",
    "\n",
    "for book_id in book_ids:\n",
    "    for field in fields:\n",
    "        plot_data(dbs, book_id, field)"
   ]
  },
  {
   "cell_type": "code",
   "execution_count": 19,
   "metadata": {
    "collapsed": true
   },
   "outputs": [],
   "source": [
    "def get_users_info(sessions_collection, book_id):\n",
    "    db = connect_to_mongo_database(BOOKS_DB)\n",
    "    users = db[sessions_collection].find().distinct('user_id')\n",
    "    \n",
    "    sessions = []\n",
    "    for user_id in users:\n",
    "        user_sessions = db[sessions_collection].find({'user_id': user_id})\n",
    "        db['%s_users' % book_id].update({'_id': user_id},\n",
    "                                        {'$set': {'sessions': user_sessions.count()}})\n",
    "        sessions.append(user_sessions.count())\n",
    "    data = [go.Histogram(x=sessions)]\n",
    "    iplot(data)"
   ]
  },
  {
   "cell_type": "code",
   "execution_count": null,
   "metadata": {
    "collapsed": true
   },
   "outputs": [],
   "source": [
    "def get_users_in_range(sessions_collection, book_id, user_id, min_sessions, max_sessions):\n",
    "    db = connect_to_mongo_database(BOOKS_DB)\n",
    "    sessions = db[sessions_collection].find({'user_id':user})"
   ]
  },
  {
   "cell_type": "code",
   "execution_count": null,
   "metadata": {},
   "outputs": [],
   "source": [
    "book_id = '2206'\n",
    "sessions_collection = '%s_users' % book_id\n",
    "get_users_info(book_id, sessions_collection)"
   ]
  }
 ],
 "metadata": {
  "kernelspec": {
   "display_name": "Python 3",
   "language": "python",
   "name": "python3"
  },
  "language_info": {
   "codemirror_mode": {
    "name": "ipython",
    "version": 3
   },
   "file_extension": ".py",
   "mimetype": "text/x-python",
   "name": "python",
   "nbconvert_exporter": "python",
   "pygments_lexer": "ipython3",
   "version": "3.6.2"
  }
 },
 "nbformat": 4,
 "nbformat_minor": 2
}
