{
 "cells": [
  {
   "cell_type": "code",
   "execution_count": 1,
   "metadata": {
    "pycharm": {
     "is_executing": false
    }
   },
   "outputs": [],
   "source": [
    "import os\n",
    "import csv\n",
    "import pickle\n",
    "import numpy as np\n",
    "import datetime\n",
    "import matplotlib.pyplot as plt"
   ]
  },
  {
   "cell_type": "code",
   "execution_count": 2,
   "metadata": {
    "pycharm": {
     "is_executing": false
    }
   },
   "outputs": [],
   "source": [
    "from collections import defaultdict"
   ]
  },
  {
   "cell_type": "code",
   "execution_count": 3,
   "metadata": {
    "pycharm": {
     "is_executing": false
    }
   },
   "outputs": [],
   "source": [
    "MARK_UP_FILES_DIR = os.path.join('..', 'metasessions_module', 'resources', 'mark_up')\n",
    "LOGS_FILE = os.path.join(MARK_UP_FILES_DIR, 'all_users_2.csv')\n",
    "OUTPUT_FILE = os.path.join(MARK_UP_FILES_DIR, 'output_2.csv')"
   ]
  },
  {
   "cell_type": "code",
   "execution_count": 4,
   "metadata": {
    "pycharm": {
     "is_executing": false
    }
   },
   "outputs": [
    {
     "data": {
      "text/plain": "['mark_up.pkl',\n 'mark_page.html',\n 'all_apps_wide_2020-04-21.csv',\n 'output.csv',\n 'all_users.csv',\n 'output.csv~',\n 'FiftyShadesOfGreyMarking_2020-05-17.csv',\n 'all_users_2.csv',\n \"FiftyShadesOfGreyMarking_ session 'yo387l3m'.html\"]"
     },
     "metadata": {},
     "output_type": "execute_result",
     "execution_count": 4
    }
   ],
   "source": [
    "os.listdir(MARK_UP_FILES_DIR)"
   ]
  },
  {
   "cell_type": "code",
   "execution_count": 5,
   "metadata": {
    "pycharm": {
     "is_executing": false
    }
   },
   "outputs": [],
   "source": [
    "def parse_markup_row(row):\n",
    "    result = {}\n",
    "    if row['participant.visited'] == '1':\n",
    "        result['Dialog'] = row['player.tag_dialog']\n",
    "        result['Dynamic action'] = row['player.tag_action']\n",
    "        result['Hot scene'] = row['player.tag_hot_scene']\n",
    "        result['Musing'] = row['player.tag_musing']\n",
    "        result['Description'] = row['player.tag_description']\n",
    "        result['Correspondence'] = row['player.tag_correspondence']\n",
    "#         result['Delight'] = row['player.tag_delight']\n",
    "#         result['Sadness'] = row['player.tag_sadness']\n",
    "        result['Tonality'] = row['player.tonality']\n",
    "        result['Suspense'] = row['player.suspense']\n",
    "        result['Additional info'] = str(row['player.additional_info']).replace('\\\"', ' ').replace('\\'', '')\n",
    "    return result"
   ]
  },
  {
   "cell_type": "code",
   "execution_count": 6,
   "metadata": {
    "pycharm": {
     "is_executing": false
    }
   },
   "outputs": [],
   "source": [
    "def load_mark_up():\n",
    "    mark_up = defaultdict(lambda: [])\n",
    "    \n",
    "    with open(LOGS_FILE, 'r') as csv_file:\n",
    "        reader = csv.DictReader(csv_file)\n",
    "        for row in reader:\n",
    "            mark_up[row['participant.id_in_session']].append(parse_markup_row(row))\n",
    "    \n",
    "    return mark_up"
   ]
  },
  {
   "cell_type": "code",
   "execution_count": 7,
   "metadata": {
    "pycharm": {
     "is_executing": false
    }
   },
   "outputs": [],
   "source": [
    "mark_up = load_mark_up()"
   ]
  },
  {
   "cell_type": "code",
   "execution_count": 8,
   "metadata": {
    "pycharm": {
     "is_executing": false
    }
   },
   "outputs": [
    {
     "data": {
      "text/plain": "{'Dialog': '1',\n 'Dynamic action': '0',\n 'Hot scene': '0',\n 'Musing': '1',\n 'Description': '0',\n 'Correspondence': '0',\n 'Tonality': '-1',\n 'Suspense': '0',\n 'Additional info': ''}"
     },
     "metadata": {},
     "output_type": "execute_result",
     "execution_count": 8
    }
   ],
   "source": [
    "mark_up['10'][1]"
   ]
  },
  {
   "cell_type": "code",
   "execution_count": 11,
   "metadata": {
    "pycharm": {
     "is_executing": false
    }
   },
   "outputs": [],
   "source": [
    "hot_scene = np.zeros(380, dtype=np.bool)\n",
    "musing = np.zeros(380, dtype=np.bool)\n",
    "correspondence = np.zeros(380, dtype=np.bool)\n",
    "action = np.zeros(380, dtype=np.bool)\n",
    "dialog = np.zeros(380, dtype=np.bool)\n",
    "description = np.zeros(380, dtype=np.bool)"
   ]
  },
  {
   "cell_type": "code",
   "execution_count": 12,
   "metadata": {
    "pycharm": {
     "is_executing": false
    }
   },
   "outputs": [],
   "source": [
    "for fragment_ind, fragment in enumerate(mark_up['10']):\n",
    "    hot_scene[fragment_ind] = (fragment['Hot scene'] == '1')\n",
    "    musing[fragment_ind] = (fragment['Musing'] == '1')\n",
    "    correspondence[fragment_ind] = (fragment['Correspondence'] == '1')\n",
    "    action[fragment_ind] = (fragment['Dynamic action'] == 1)\n",
    "    dialog[fragment_ind] = (fragment['Dialog'] == 1)\n",
    "    description[fragment_ind] = (fragment['Description'] == 1)"
   ]
  },
  {
   "cell_type": "code",
   "execution_count": 13,
   "metadata": {
    "pycharm": {
     "is_executing": false
    }
   },
   "outputs": [],
   "source": [
    "def save_via_pickle(obj, filename):\n",
    "    with open(filename, 'wb') as output_file:\n",
    "        pickle.dump(obj, output_file)"
   ]
  },
  {
   "cell_type": "code",
   "execution_count": 14,
   "metadata": {
    "pycharm": {
     "is_executing": false
    }
   },
   "outputs": [],
   "source": [
    "result_markup = {'musing': musing,\n",
    "                 'hot_scene': hot_scene,\n",
    "                 'correspondence': correspondence,\n",
    "                 'action': action,\n",
    "                 'dialog': dialog,\n",
    "                 'description': description}\n",
    "\n",
    "save_via_pickle(result_markup, os.path.join(MARK_UP_FILES_DIR, 'mark_up.pkl'))"
   ]
  },
  {
   "cell_type": "code",
   "execution_count": 64,
   "metadata": {},
   "outputs": [
    {
     "name": "stderr",
     "output_type": "stream",
     "text": [
      "/home/itukh/anaconda3/envs/py37/lib/python3.7/site-packages/ipykernel_launcher.py:15: UserWarning: Matplotlib is currently using module://ipykernel.pylab.backend_inline, which is a non-GUI backend, so cannot show the figure.\n",
      "  from ipykernel import kernelapp as app\n"
     ]
    },
    {
     "data": {
      "text/plain": [
       "<Figure size 432x288 with 0 Axes>"
      ]
     },
     "metadata": {},
     "output_type": "display_data"
    },
    {
     "data": {
      "image/png": "[encoded data removed]",
      "text/plain": [
       "<Figure size 432x288 with 1 Axes>"
      ]
     },
     "metadata": {
      "needs_background": "light"
     },
     "output_type": "display_data"
    }
   ],
   "source": [
    "plt.clf()\n",
    "fig, ax = plt.subplots(nrows=1, ncols=1)\n",
    "ax.set_xlim(0, 380)\n",
    "ax.set_ylim(0, 1)\n",
    "for ind in range(380):\n",
    "    if hot_scene[ind]:\n",
    "        ax.add_patch(plt.Rectangle((ind, 0), 1, 1,\n",
    "                                   fill=True, color='r', alpha=0.5))\n",
    "    if musing[ind]:\n",
    "        ax.add_patch(plt.Rectangle((ind, 0), 1, 1,\n",
    "                                   fill=True, color='g', alpha=0.5))\n",
    "    if correspondence[ind]:\n",
    "        ax.add_patch(plt.Rectangle((ind, 0), 1, 1,\n",
    "                                   fill=True, color='b', alpha=0.5))\n",
    "fig.show()"
   ]
  },
  {
   "cell_type": "code",
   "execution_count": 108,
   "metadata": {},
   "outputs": [],
   "source": [
    "def save_mark_up(mark_up):\n",
    "    with open(OUTPUT_FILE, 'w') as csv_file:\n",
    "        writer = csv.DictWriter(csv_file, \n",
    "                                fieldnames=['Fragment number'] + list(list(mark_up.values())[0][0].keys()),\n",
    "                                delimiter=',')\n",
    "        writer.writeheader()\n",
    "        for player_id, actual_mark_up in mark_up.items():\n",
    "            for ind, row in enumerate(actual_mark_up):\n",
    "                row['Fragment number'] = ind\n",
    "                writer.writerow(row)"
   ]
  },
  {
   "cell_type": "code",
   "execution_count": 109,
   "metadata": {},
   "outputs": [],
   "source": [
    "save_mark_up(load_mark_up())"
   ]
  }
 ],
 "metadata": {
  "kernelspec": {
   "display_name": "Python 3",
   "language": "python",
   "name": "python3"
  },
  "language_info": {
   "codemirror_mode": {
    "name": "ipython",
    "version": 3
   },
   "file_extension": ".py",
   "mimetype": "text/x-python",
   "name": "python",
   "nbconvert_exporter": "python",
   "pygments_lexer": "ipython3",
   "version": "3.7.6"
  },
  "pycharm": {
   "stem_cell": {
    "cell_type": "raw",
    "source": [],
    "metadata": {
     "collapsed": false
    }
   }
  }
 },
 "nbformat": 4,
 "nbformat_minor": 4
}